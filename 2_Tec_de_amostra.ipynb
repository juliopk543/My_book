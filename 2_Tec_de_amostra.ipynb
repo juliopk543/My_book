{
  "nbformat": 4,
  "nbformat_minor": 0,
  "metadata": {
    "colab": {
      "name": "2-tec_de_amostra.ipynb",
      "provenance": [],
      "collapsed_sections": [
        "ns_bXMD7TmAs"
      ]
    },
    "kernelspec": {
      "name": "python3",
      "display_name": "Python 3"
    },
    "language_info": {
      "name": "python"
    }
  },
  "cells": [
    {
      "cell_type": "code",
      "source": [
        "import pandas as pd\n",
        "import random\n",
        "import numpy as np"
      ],
      "metadata": {
        "id": "0Sliel-wkrAP"
      },
      "execution_count": 1,
      "outputs": []
    },
    {
      "cell_type": "code",
      "source": [
        "dataset = pd.read_csv('census.csv')"
      ],
      "metadata": {
        "id": "EOs0kzY9kz9h"
      },
      "execution_count": 2,
      "outputs": []
    },
    {
      "cell_type": "markdown",
      "source": [
        "## part1\\. AM simples"
      ],
      "metadata": {
        "id": "dTp6pMXvh0UW"
      }
    },
    {
      "cell_type": "markdown",
      "source": [
        "A amostragem aleatória simples é o processo mais elementar e frequentemente utilizado. Corresponde a uma amostra de elementos retirados ao acaso da população, isto é, cada indivíduo é escolhido completamente ao acaso e cada membro da população tem a mesma probabilidade se ser incluído na amostra"
      ],
      "metadata": {
        "id": "MhlystJRkEMT"
      }
    },
    {
      "cell_type": "code",
      "source": [
        "def amostra_aleatoria_simples(dataset, amostras):\n",
        "  return dataset.sample(n = amostras)\n"
      ],
      "metadata": {
        "id": "k56EuYCsh5dZ"
      },
      "execution_count": 3,
      "outputs": []
    },
    {
      "cell_type": "code",
      "source": [
        "df_amostra_aleatoria_simples = amostra_aleatoria_simples(dataset, 100)"
      ],
      "metadata": {
        "id": "OcyXb9S1iFe_"
      },
      "execution_count": 4,
      "outputs": []
    },
    {
      "cell_type": "markdown",
      "source": [
        "## part2\\. AM sistematica."
      ],
      "metadata": {
        "id": "ns_bXMD7TmAs"
      }
    },
    {
      "cell_type": "markdown",
      "source": [
        "Na amostra sistematica, é feita uma seleção aleatória do primeiro elemento para a amostra e logo se selecionam os itens subsequentes utilizando intervalos fixos ou sistemáticos até chegar ao tamanho da amostra desejada. Por exemplo, em uma linha de produção, podemos, **a cada dez itens produzidos**, retirar um para pertencer a uma amostra da produção diária."
      ],
      "metadata": {
        "id": "WsKQu0kaVS3z"
      }
    },
    {
      "cell_type": "code",
      "source": [
        "def amostra_sistematica(dataset, amostras):\n",
        "  intervalo = len(dataset) // amostras\n",
        "  random.seed(1)\n",
        "  inicio = random.randint(0, intervalo)\n",
        "  indices = np.arange(inicio, len(dataset), step= intervalo)\n",
        "  amostra_sistematica = dataset.iloc[indices]\n",
        "  return amostra_sistematica"
      ],
      "metadata": {
        "id": "JlcCSKoXTlIW"
      },
      "execution_count": 5,
      "outputs": []
    },
    {
      "cell_type": "code",
      "source": [
        "df_amostra_sistematica = amostra_sistematica(dataset, 100)"
      ],
      "metadata": {
        "id": "7JLAsWishRX4"
      },
      "execution_count": 6,
      "outputs": []
    },
    {
      "cell_type": "markdown",
      "source": [
        "## part3\\. AM de Agrupamento"
      ],
      "metadata": {
        "id": "oI8ZfMliWMVi"
      }
    },
    {
      "cell_type": "markdown",
      "source": [
        "A amostragem de agrupamento é um tipo de método de amostragem em que a população respondente é dividida em agrupamentos iguais. Os clusters são identificados e incluídos em uma amostra com base na definição de parâmetros demográficos, como idade, local, sexo, etc; o que torna extremamente fácil para um criador de pesquisa derivar inferência efetiva do feedback. Por exemplo, se o FDA quiser coletar dados sobre efeitos colaterais adversos dos medicamentos; eles podem dividir os EUA do continente em grupos distintos, como estados. Os estudos de pesquisa são administrados aos entrevistados nesses clusters. Esse tipo de geração de uma amostra facilita a coleta de dados e fornece informações de fácil consumo e ação."
      ],
      "metadata": {
        "id": "9Hduqae5YMOa"
      }
    },
    {
      "cell_type": "code",
      "execution_count": 14,
      "metadata": {
        "id": "34AH23AlPk6m"
      },
      "outputs": [],
      "source": [
        "def amostra_agrupamento(dataset, numero_grupos):\n",
        "  intervalo = len(dataset) / numero_grupos\n",
        "\n",
        "  grupos = []\n",
        "  id_grupos = 0\n",
        "  contagem = 0 \n",
        "\n",
        "  for _ in dataset.iterrows():\n",
        "    grupos.append(id_grupos)\n",
        "    contagem += 1\n",
        "    if contagem > intervalo:\n",
        "      contagem = 0\n",
        "      id_grupos += 1\n",
        "\n",
        "  dataset['grupo'] = grupos\n",
        "  grupo_selecionado = random.randint(0, numero_grupos) \n",
        "  return dataset[dataset['grupo'] == grupo_selecionado]"
      ]
    },
    {
      "cell_type": "code",
      "source": [
        "df_amostra_agrupamento = amostra_agrupamento(dataset, 100)"
      ],
      "metadata": {
        "id": "XCxUyGOBhZuJ"
      },
      "execution_count": 15,
      "outputs": []
    },
    {
      "cell_type": "markdown",
      "source": [
        "## part4\\. AM estratificada"
      ],
      "metadata": {
        "id": "7fEg37tBYa8k"
      }
    },
    {
      "cell_type": "markdown",
      "source": [
        "Permite a obtenção de amostras de menor dimensão quando na presença de amostras com grande dispersão (desvio padrão elevado). A mmostra estratificada encontra a quantidade desejada na mesma distribuição original. "
      ],
      "metadata": {
        "id": "q3S4IH_jc1qF"
      }
    },
    {
      "cell_type": "code",
      "source": [
        "from sklearn.model_selection import StratifiedShuffleSplit"
      ],
      "metadata": {
        "id": "u2drD8idZJXW"
      },
      "execution_count": 37,
      "outputs": []
    },
    {
      "cell_type": "markdown",
      "source": [
        "* Representatividade (distribuição original)"
      ],
      "metadata": {
        "id": "7rrSr4CNZoe-"
      }
    },
    {
      "cell_type": "code",
      "source": [
        "dataset['income'].value_counts()"
      ],
      "metadata": {
        "colab": {
          "base_uri": "https://localhost:8080/"
        },
        "id": "ZnOgBj57ZUK1",
        "outputId": "f5664557-cb2f-4c79-c7fd-960a5161bd4e"
      },
      "execution_count": 38,
      "outputs": [
        {
          "output_type": "execute_result",
          "data": {
            "text/plain": [
              " <=50K    24720\n",
              " >50K      7841\n",
              "Name: income, dtype: int64"
            ]
          },
          "metadata": {},
          "execution_count": 38
        }
      ]
    },
    {
      "cell_type": "code",
      "source": [
        "7841 / len(dataset), 24720 / len(dataset)"
      ],
      "metadata": {
        "colab": {
          "base_uri": "https://localhost:8080/"
        },
        "id": "G8SRQZo4ZjnK",
        "outputId": "cd732607-d05a-48ac-8e22-2d0111f3f396"
      },
      "execution_count": 39,
      "outputs": [
        {
          "output_type": "execute_result",
          "data": {
            "text/plain": [
              "(0.2408095574460244, 0.7591904425539756)"
            ]
          },
          "metadata": {},
          "execution_count": 39
        }
      ]
    },
    {
      "cell_type": "markdown",
      "source": [
        "\n",
        "\n",
        "*   Seleção quantidade\n",
        "\n"
      ],
      "metadata": {
        "id": "Kv_3iKqYbAWd"
      }
    },
    {
      "cell_type": "code",
      "source": [
        "100 / len(dataset) # 100 pessoas "
      ],
      "metadata": {
        "colab": {
          "base_uri": "https://localhost:8080/"
        },
        "id": "eA9X9e6YbHs0",
        "outputId": "8588b20a-3587-48a1-c1de-258a10c01dac"
      },
      "execution_count": 40,
      "outputs": [
        {
          "output_type": "execute_result",
          "data": {
            "text/plain": [
              "0.0030711587481956942"
            ]
          },
          "metadata": {},
          "execution_count": 40
        }
      ]
    },
    {
      "cell_type": "markdown",
      "source": [
        "* StratifiedShuffleSplit"
      ],
      "metadata": {
        "id": "rRaInHrLaCf7"
      }
    },
    {
      "cell_type": "code",
      "source": [
        "split = StratifiedShuffleSplit(test_size=0.1) # Porcentagem de amostra\n",
        "for x,y in split.split(dataset, dataset['income']):\n",
        "  df_x = dataset.iloc[x]\n",
        "  df_y = dataset.iloc[y]"
      ],
      "metadata": {
        "id": "gKdkiKa0Z__m"
      },
      "execution_count": 41,
      "outputs": []
    },
    {
      "cell_type": "markdown",
      "source": [
        "* Amostra original"
      ],
      "metadata": {
        "id": "tFA1X5llbzFw"
      }
    },
    {
      "cell_type": "code",
      "source": [
        "dataset['income'].value_counts()"
      ],
      "metadata": {
        "colab": {
          "base_uri": "https://localhost:8080/"
        },
        "id": "wnl2az3Nbu7B",
        "outputId": "d54d33e8-e5d9-431d-a11e-c4da693e1043"
      },
      "execution_count": 42,
      "outputs": [
        {
          "output_type": "execute_result",
          "data": {
            "text/plain": [
              " <=50K    24720\n",
              " >50K      7841\n",
              "Name: income, dtype: int64"
            ]
          },
          "metadata": {},
          "execution_count": 42
        }
      ]
    },
    {
      "cell_type": "markdown",
      "source": [
        "* Amostra estratificada da quantidade desejada na mesma distribuição original. "
      ],
      "metadata": {
        "id": "uvGJRn-Hb1bN"
      }
    },
    {
      "cell_type": "code",
      "source": [
        "df_y['income'].value_counts()"
      ],
      "metadata": {
        "colab": {
          "base_uri": "https://localhost:8080/"
        },
        "id": "J53tssSYa1mI",
        "outputId": "9d283a4b-bf96-496a-8782-f60dace316fc"
      },
      "execution_count": 43,
      "outputs": [
        {
          "output_type": "execute_result",
          "data": {
            "text/plain": [
              " <=50K    2473\n",
              " >50K      784\n",
              "Name: income, dtype: int64"
            ]
          },
          "metadata": {},
          "execution_count": 43
        }
      ]
    },
    {
      "cell_type": "code",
      "source": [
        "def amostra_estratificada(dataset, percentual):\n",
        "  split = StratifiedShuffleSplit(test_size=percentual, random_state=1)\n",
        "  \n",
        "  for _, y in split.split(dataset, dataset['income']):\n",
        "    df_y = dataset.iloc[y]\n",
        "\n",
        "  return df_y"
      ],
      "metadata": {
        "id": "cCLCUnrBd2Nh"
      },
      "execution_count": 44,
      "outputs": []
    },
    {
      "cell_type": "code",
      "source": [
        "df_amostra_estratificada = amostra_estratificada(dataset, 0.0030711587481956942)"
      ],
      "metadata": {
        "id": "D7E-66JOhhEe"
      },
      "execution_count": 45,
      "outputs": []
    },
    {
      "cell_type": "markdown",
      "source": [
        "## part5\\. AM de reservatorio "
      ],
      "metadata": {
        "id": "9Be8_YZMf63W"
      }
    },
    {
      "cell_type": "markdown",
      "source": [
        "A amostragem de reservatório é uma família de algoritmos randomizados para escolher aleatoriamente k amostras de uma lista de **N itens**, onde **N** é um número muito grande ou desconhecido. Normalmente n é grande o suficiente para que a lista não caiba na memória principal.(Por exemplo) na fabrica de refrigerante todas as garrafinhas **(N itens)** passando na esteira deve ter a mesma chance de ser escolhida durante o processo de amostra."
      ],
      "metadata": {
        "id": "KdeKFBZsgDjd"
      }
    },
    {
      "cell_type": "code",
      "source": [
        "def amostra_reservatorio(dataset, amostras):\n",
        "  stream = []\n",
        "  for i in range(len(dataset)):\n",
        "    stream.append(i)\n",
        "\n",
        "  i = 0\n",
        "  tamanho = len(dataset)\n",
        "\n",
        "  reservatorio = [0] * amostras\n",
        "  for i in range(amostras):\n",
        "    reservatorio[i] = stream[i]\n",
        "\n",
        "  while i < tamanho:\n",
        "    j = random.randrange(i + 1)\n",
        "    if j < amostras:\n",
        "      reservatorio[j] = stream[i]\n",
        "    i += 1\n",
        "\n",
        "  return dataset.iloc[reservatorio]        "
      ],
      "metadata": {
        "id": "AC2YqoEngEn-"
      },
      "execution_count": 28,
      "outputs": []
    },
    {
      "cell_type": "code",
      "source": [
        "df_amostra_reservatorio = amostra_reservatorio(dataset, 100)"
      ],
      "metadata": {
        "id": "p2F2aryXhCvb"
      },
      "execution_count": 36,
      "outputs": []
    },
    {
      "cell_type": "markdown",
      "source": [
        "## final\\. Técnicas de amostragem"
      ],
      "metadata": {
        "id": "jYgzVTynerPg"
      }
    },
    {
      "cell_type": "markdown",
      "source": [
        "O ideal é usar a amostra que mais se aproximar da media total. para garantir a representatividade de todos."
      ],
      "metadata": {
        "id": "DN2Abd4nkbxi"
      }
    },
    {
      "cell_type": "markdown",
      "source": [
        "* media total"
      ],
      "metadata": {
        "id": "KFrqyTMOkHa2"
      }
    },
    {
      "cell_type": "code",
      "source": [
        "dataset['age'].mean()"
      ],
      "metadata": {
        "colab": {
          "base_uri": "https://localhost:8080/"
        },
        "id": "VY-oiMFiezd2",
        "outputId": "78819f16-5a13-4938-e1fe-78afcb434ea4"
      },
      "execution_count": 30,
      "outputs": [
        {
          "output_type": "execute_result",
          "data": {
            "text/plain": [
              "38.58164675532078"
            ]
          },
          "metadata": {},
          "execution_count": 30
        }
      ]
    },
    {
      "cell_type": "markdown",
      "source": [
        "* media amostra simples"
      ],
      "metadata": {
        "id": "h71wn4jRkLCm"
      }
    },
    {
      "cell_type": "code",
      "source": [
        "df_amostra_aleatoria_simples['age'].mean()"
      ],
      "metadata": {
        "colab": {
          "base_uri": "https://localhost:8080/"
        },
        "id": "o_IMCQCPfJis",
        "outputId": "7b129c66-003e-4a18-94b5-419ddc1277c5"
      },
      "execution_count": 31,
      "outputs": [
        {
          "output_type": "execute_result",
          "data": {
            "text/plain": [
              "37.55"
            ]
          },
          "metadata": {},
          "execution_count": 31
        }
      ]
    },
    {
      "cell_type": "markdown",
      "source": [
        "* media amostra sistematica"
      ],
      "metadata": {
        "id": "6eIN9oICkOAe"
      }
    },
    {
      "cell_type": "code",
      "source": [
        "df_amostra_sistematica['age'].mean()"
      ],
      "metadata": {
        "colab": {
          "base_uri": "https://localhost:8080/"
        },
        "id": "KO6xWVB6fLAx",
        "outputId": "8eddfd5d-2495-40da-beb2-e772577a5bcf"
      },
      "execution_count": 32,
      "outputs": [
        {
          "output_type": "execute_result",
          "data": {
            "text/plain": [
              "37.57"
            ]
          },
          "metadata": {},
          "execution_count": 32
        }
      ]
    },
    {
      "cell_type": "markdown",
      "source": [
        "media amostra agrupada"
      ],
      "metadata": {
        "id": "SH-Qz3EDkRX4"
      }
    },
    {
      "cell_type": "code",
      "source": [
        "df_amostra_agrupamento['age'].mean()"
      ],
      "metadata": {
        "colab": {
          "base_uri": "https://localhost:8080/"
        },
        "id": "OYf_6EVjfXA2",
        "outputId": "9f14f861-52d8-4de7-d723-b26f45afe379"
      },
      "execution_count": 33,
      "outputs": [
        {
          "output_type": "execute_result",
          "data": {
            "text/plain": [
              "39.47546012269939"
            ]
          },
          "metadata": {},
          "execution_count": 33
        }
      ]
    },
    {
      "cell_type": "markdown",
      "source": [
        "media amostra estratificada"
      ],
      "metadata": {
        "id": "-wD18PL5kUqQ"
      }
    },
    {
      "cell_type": "code",
      "source": [
        "df_amostra_estratificada['age'].mean()"
      ],
      "metadata": {
        "colab": {
          "base_uri": "https://localhost:8080/"
        },
        "id": "KLoGTNVffc8k",
        "outputId": "325f1963-b8ea-4bb4-c545-0e693fc688fd"
      },
      "execution_count": 34,
      "outputs": [
        {
          "output_type": "execute_result",
          "data": {
            "text/plain": [
              "38.58213079521032"
            ]
          },
          "metadata": {},
          "execution_count": 34
        }
      ]
    },
    {
      "cell_type": "markdown",
      "source": [
        "media amostra reservatorio"
      ],
      "metadata": {
        "id": "Lg_uchbRkXbe"
      }
    },
    {
      "cell_type": "code",
      "source": [
        "df_amostra_reservatorio['age'].mean()"
      ],
      "metadata": {
        "colab": {
          "base_uri": "https://localhost:8080/"
        },
        "id": "W9OmANDIfiXb",
        "outputId": "3e3fd53a-98d3-46f2-bcb5-5f6e3d144bd3"
      },
      "execution_count": 46,
      "outputs": [
        {
          "output_type": "execute_result",
          "data": {
            "text/plain": [
              "38.32"
            ]
          },
          "metadata": {},
          "execution_count": 46
        }
      ]
    }
  ]
}