{
  "nbformat": 4,
  "nbformat_minor": 0,
  "metadata": {
    "colab": {
      "name": "3_select_attribute.ipynb",
      "provenance": []
    },
    "kernelspec": {
      "name": "python3",
      "display_name": "Python 3"
    },
    "language_info": {
      "name": "python"
    }
  },
  "cells": [
    {
      "cell_type": "markdown",
      "source": [
        "---\n",
        "\n",
        "# **Pag** | Seleção de atributos\n",
        "Aluno [Julio Cesar](https://www.linkedin.com/in/julio-pk-56b209205/)\n",
        "\n",
        "---"
      ],
      "metadata": {
        "id": "ahjePKjYoczm"
      }
    },
    {
      "cell_type": "markdown",
      "source": [
        "A forma como o aprendizado de máquina se desenvolve está diretamente relacionado com a qualidade dos dados entregue a um modelo de Machine Learning. Além da parte de limpeza e pré-processamento, é dever do cientista de dados extrair a melhor performance possível de seus algoritmos.\n",
        "\n",
        "A seleção de features consiste na avaliação de todas as características de uma base de dados de modo a selecionar as melhores para determinada aplicação de Machine Learning e nesse caso irei utilizar apenas Variance Threshold."
      ],
      "metadata": {
        "id": "JJtn_aoxe1Eq"
      }
    },
    {
      "cell_type": "markdown",
      "source": [
        "![feature.png](data:image/png;base64,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)"
      ],
      "metadata": {
        "id": "qLBtOE9ZgWQn"
      }
    },
    {
      "cell_type": "markdown",
      "source": [
        "# feature selection VarianceThreshold"
      ],
      "metadata": {
        "id": "V1zynjW8genj"
      }
    },
    {
      "cell_type": "code",
      "source": [
        "import pandas as pd\n",
        "import numpy as np"
      ],
      "metadata": {
        "id": "QrQ17HedW0Pe"
      },
      "execution_count": 22,
      "outputs": []
    },
    {
      "cell_type": "code",
      "execution_count": 4,
      "metadata": {
        "id": "Bzu2S_nTWC7R"
      },
      "outputs": [],
      "source": [
        "dataset = pd.read_csv('credit_data.csv')"
      ]
    },
    {
      "cell_type": "code",
      "source": [
        "dataset.dropna(inplace=True)"
      ],
      "metadata": {
        "id": "kyNFGav4WmgM"
      },
      "execution_count": 5,
      "outputs": []
    },
    {
      "cell_type": "code",
      "source": [
        "dataset.head()"
      ],
      "metadata": {
        "id": "YG94OXGHWq-7"
      },
      "execution_count": null,
      "outputs": []
    },
    {
      "cell_type": "markdown",
      "source": [
        "* A Seleção de atributos relevantes, deve ser considerado apenas dados que estão na mesma escala com o Desvio padrão proximo. ( desconsiderando aqueles com 0.0) \n",
        "\n",
        "* Em momentos que o treinamento envolve um numero grande de colunas, a relevancia deve ser filtrada descartando os atributos abaixo da media geral. "
      ],
      "metadata": {
        "id": "G_gJC4MhW7ln"
      }
    },
    {
      "cell_type": "code",
      "source": [
        "dataset.describe()"
      ],
      "metadata": {
        "colab": {
          "base_uri": "https://localhost:8080/",
          "height": 300
        },
        "id": "vUDAMAhhWui0",
        "outputId": "efb4ad43-09c5-4a79-d406-e43592ab6153"
      },
      "execution_count": 7,
      "outputs": [
        {
          "output_type": "execute_result",
          "data": {
            "text/plain": [
              "        i#clientid        income          age          loan    c#default\n",
              "count  1997.000000   1997.000000  1997.000000   1997.000000  1997.000000\n",
              "mean   1001.956935  45333.864334    40.807559   4445.487716     0.141713\n",
              "std     576.702206  14325.131177    13.624469   3046.792457     0.348842\n",
              "min       1.000000  20014.489470   -52.423280      1.377630     0.000000\n",
              "25%     503.000000  32804.904487    28.990415   1936.813257     0.000000\n",
              "50%    1002.000000  45788.747100    41.317159   3977.287432     0.000000\n",
              "75%    1501.000000  57787.565659    52.587040   6440.861434     0.000000\n",
              "max    2000.000000  69995.685578    63.971796  13766.051239     1.000000"
            ],
            "text/html": [
              "\n",
              "  <div id=\"df-1c13630c-8b72-43cd-82fe-d4653c64b680\">\n",
              "    <div class=\"colab-df-container\">\n",
              "      <div>\n",
              "<style scoped>\n",
              "    .dataframe tbody tr th:only-of-type {\n",
              "        vertical-align: middle;\n",
              "    }\n",
              "\n",
              "    .dataframe tbody tr th {\n",
              "        vertical-align: top;\n",
              "    }\n",
              "\n",
              "    .dataframe thead th {\n",
              "        text-align: right;\n",
              "    }\n",
              "</style>\n",
              "<table border=\"1\" class=\"dataframe\">\n",
              "  <thead>\n",
              "    <tr style=\"text-align: right;\">\n",
              "      <th></th>\n",
              "      <th>i#clientid</th>\n",
              "      <th>income</th>\n",
              "      <th>age</th>\n",
              "      <th>loan</th>\n",
              "      <th>c#default</th>\n",
              "    </tr>\n",
              "  </thead>\n",
              "  <tbody>\n",
              "    <tr>\n",
              "      <th>count</th>\n",
              "      <td>1997.000000</td>\n",
              "      <td>1997.000000</td>\n",
              "      <td>1997.000000</td>\n",
              "      <td>1997.000000</td>\n",
              "      <td>1997.000000</td>\n",
              "    </tr>\n",
              "    <tr>\n",
              "      <th>mean</th>\n",
              "      <td>1001.956935</td>\n",
              "      <td>45333.864334</td>\n",
              "      <td>40.807559</td>\n",
              "      <td>4445.487716</td>\n",
              "      <td>0.141713</td>\n",
              "    </tr>\n",
              "    <tr>\n",
              "      <th>std</th>\n",
              "      <td>576.702206</td>\n",
              "      <td>14325.131177</td>\n",
              "      <td>13.624469</td>\n",
              "      <td>3046.792457</td>\n",
              "      <td>0.348842</td>\n",
              "    </tr>\n",
              "    <tr>\n",
              "      <th>min</th>\n",
              "      <td>1.000000</td>\n",
              "      <td>20014.489470</td>\n",
              "      <td>-52.423280</td>\n",
              "      <td>1.377630</td>\n",
              "      <td>0.000000</td>\n",
              "    </tr>\n",
              "    <tr>\n",
              "      <th>25%</th>\n",
              "      <td>503.000000</td>\n",
              "      <td>32804.904487</td>\n",
              "      <td>28.990415</td>\n",
              "      <td>1936.813257</td>\n",
              "      <td>0.000000</td>\n",
              "    </tr>\n",
              "    <tr>\n",
              "      <th>50%</th>\n",
              "      <td>1002.000000</td>\n",
              "      <td>45788.747100</td>\n",
              "      <td>41.317159</td>\n",
              "      <td>3977.287432</td>\n",
              "      <td>0.000000</td>\n",
              "    </tr>\n",
              "    <tr>\n",
              "      <th>75%</th>\n",
              "      <td>1501.000000</td>\n",
              "      <td>57787.565659</td>\n",
              "      <td>52.587040</td>\n",
              "      <td>6440.861434</td>\n",
              "      <td>0.000000</td>\n",
              "    </tr>\n",
              "    <tr>\n",
              "      <th>max</th>\n",
              "      <td>2000.000000</td>\n",
              "      <td>69995.685578</td>\n",
              "      <td>63.971796</td>\n",
              "      <td>13766.051239</td>\n",
              "      <td>1.000000</td>\n",
              "    </tr>\n",
              "  </tbody>\n",
              "</table>\n",
              "</div>\n",
              "      <button class=\"colab-df-convert\" onclick=\"convertToInteractive('df-1c13630c-8b72-43cd-82fe-d4653c64b680')\"\n",
              "              title=\"Convert this dataframe to an interactive table.\"\n",
              "              style=\"display:none;\">\n",
              "        \n",
              "  <svg xmlns=\"http://www.w3.org/2000/svg\" height=\"24px\"viewBox=\"0 0 24 24\"\n",
              "       width=\"24px\">\n",
              "    <path d=\"M0 0h24v24H0V0z\" fill=\"none\"/>\n",
              "    <path d=\"M18.56 5.44l.94 2.06.94-2.06 2.06-.94-2.06-.94-.94-2.06-.94 2.06-2.06.94zm-11 1L8.5 8.5l.94-2.06 2.06-.94-2.06-.94L8.5 2.5l-.94 2.06-2.06.94zm10 10l.94 2.06.94-2.06 2.06-.94-2.06-.94-.94-2.06-.94 2.06-2.06.94z\"/><path d=\"M17.41 7.96l-1.37-1.37c-.4-.4-.92-.59-1.43-.59-.52 0-1.04.2-1.43.59L10.3 9.45l-7.72 7.72c-.78.78-.78 2.05 0 2.83L4 21.41c.39.39.9.59 1.41.59.51 0 1.02-.2 1.41-.59l7.78-7.78 2.81-2.81c.8-.78.8-2.07 0-2.86zM5.41 20L4 18.59l7.72-7.72 1.47 1.35L5.41 20z\"/>\n",
              "  </svg>\n",
              "      </button>\n",
              "      \n",
              "  <style>\n",
              "    .colab-df-container {\n",
              "      display:flex;\n",
              "      flex-wrap:wrap;\n",
              "      gap: 12px;\n",
              "    }\n",
              "\n",
              "    .colab-df-convert {\n",
              "      background-color: #E8F0FE;\n",
              "      border: none;\n",
              "      border-radius: 50%;\n",
              "      cursor: pointer;\n",
              "      display: none;\n",
              "      fill: #1967D2;\n",
              "      height: 32px;\n",
              "      padding: 0 0 0 0;\n",
              "      width: 32px;\n",
              "    }\n",
              "\n",
              "    .colab-df-convert:hover {\n",
              "      background-color: #E2EBFA;\n",
              "      box-shadow: 0px 1px 2px rgba(60, 64, 67, 0.3), 0px 1px 3px 1px rgba(60, 64, 67, 0.15);\n",
              "      fill: #174EA6;\n",
              "    }\n",
              "\n",
              "    [theme=dark] .colab-df-convert {\n",
              "      background-color: #3B4455;\n",
              "      fill: #D2E3FC;\n",
              "    }\n",
              "\n",
              "    [theme=dark] .colab-df-convert:hover {\n",
              "      background-color: #434B5C;\n",
              "      box-shadow: 0px 1px 3px 1px rgba(0, 0, 0, 0.15);\n",
              "      filter: drop-shadow(0px 1px 2px rgba(0, 0, 0, 0.3));\n",
              "      fill: #FFFFFF;\n",
              "    }\n",
              "  </style>\n",
              "\n",
              "      <script>\n",
              "        const buttonEl =\n",
              "          document.querySelector('#df-1c13630c-8b72-43cd-82fe-d4653c64b680 button.colab-df-convert');\n",
              "        buttonEl.style.display =\n",
              "          google.colab.kernel.accessAllowed ? 'block' : 'none';\n",
              "\n",
              "        async function convertToInteractive(key) {\n",
              "          const element = document.querySelector('#df-1c13630c-8b72-43cd-82fe-d4653c64b680');\n",
              "          const dataTable =\n",
              "            await google.colab.kernel.invokeFunction('convertToInteractive',\n",
              "                                                     [key], {});\n",
              "          if (!dataTable) return;\n",
              "\n",
              "          const docLinkHtml = 'Like what you see? Visit the ' +\n",
              "            '<a target=\"_blank\" href=https://colab.research.google.com/notebooks/data_table.ipynb>data table notebook</a>'\n",
              "            + ' to learn more about interactive tables.';\n",
              "          element.innerHTML = '';\n",
              "          dataTable['output_type'] = 'display_data';\n",
              "          await google.colab.output.renderOutput(dataTable, element);\n",
              "          const docLink = document.createElement('div');\n",
              "          docLink.innerHTML = docLinkHtml;\n",
              "          element.appendChild(docLink);\n",
              "        }\n",
              "      </script>\n",
              "    </div>\n",
              "  </div>\n",
              "  "
            ]
          },
          "metadata": {},
          "execution_count": 7
        }
      ]
    },
    {
      "cell_type": "code",
      "source": [
        "X = dataset.iloc[:, 1:4].values"
      ],
      "metadata": {
        "id": "oDmQZoj9YEZn"
      },
      "execution_count": 8,
      "outputs": []
    },
    {
      "cell_type": "code",
      "source": [
        "y = dataset.iloc[:, 4].values"
      ],
      "metadata": {
        "id": "Urbgt3ZLYKgM"
      },
      "execution_count": 9,
      "outputs": []
    },
    {
      "cell_type": "markdown",
      "source": [
        "* Abreviando a escala de numeros para 0 / 1"
      ],
      "metadata": {
        "id": "sCBZZsbqYkLw"
      }
    },
    {
      "cell_type": "code",
      "source": [
        "from sklearn.preprocessing import MinMaxScaler\n",
        "scaler = MinMaxScaler()\n",
        "X = scaler.fit_transform(X)"
      ],
      "metadata": {
        "id": "SpZfWq8eYSSF"
      },
      "execution_count": 10,
      "outputs": []
    },
    {
      "cell_type": "code",
      "source": [
        "X"
      ],
      "metadata": {
        "colab": {
          "base_uri": "https://localhost:8080/"
        },
        "id": "ESAoS3QeYpkL",
        "outputId": "1a35ef55-01a5-408d-f42f-647cef9f02cf"
      },
      "execution_count": 12,
      "outputs": [
        {
          "output_type": "execute_result",
          "data": {
            "text/plain": [
              "array([[0.9231759 , 0.95743135, 0.58883739],\n",
              "       [0.28812165, 0.86378597, 0.47682695],\n",
              "       [0.74633429, 0.99257918, 0.58262011],\n",
              "       ...,\n",
              "       [0.48612202, 0.69109837, 0.40112895],\n",
              "       [0.47500998, 1.        , 0.1177903 ],\n",
              "       [0.98881367, 0.93282208, 0.53597028]])"
            ]
          },
          "metadata": {},
          "execution_count": 12
        }
      ]
    },
    {
      "cell_type": "markdown",
      "source": [
        "\n",
        "\n",
        "> Nota: abaixo está a variancia para definir a relevancia dos atributos (as 3 colunas), vamos escolher o menor ou a media de todas.\n",
        "\n"
      ],
      "metadata": {
        "id": "sSeXihtLZ79K"
      }
    },
    {
      "cell_type": "code",
      "source": [
        "np.var(X[0]), np.var(X[1]), np.var(X[2])"
      ],
      "metadata": {
        "colab": {
          "base_uri": "https://localhost:8080/"
        },
        "id": "iJBdLB3TaMax",
        "outputId": "e9e26ff7-1d25-49f7-8f31-975298214661"
      },
      "execution_count": 16,
      "outputs": [
        {
          "output_type": "execute_result",
          "data": {
            "text/plain": [
              "(0.027646353650092187, 0.05741515340722347, 0.028389480276199003)"
            ]
          },
          "metadata": {},
          "execution_count": 16
        }
      ]
    },
    {
      "cell_type": "markdown",
      "source": [
        "## VarianceThreshold "
      ],
      "metadata": {
        "id": "EhFMkPHohulg"
      }
    },
    {
      "cell_type": "code",
      "source": [
        "from sklearn.feature_selection import VarianceThreshold \n",
        "\n",
        "selecao = VarianceThreshold(threshold=0.027)\n",
        "X_novo = selecao.fit_transform(X)"
      ],
      "metadata": {
        "id": "rPjPBMrMZIpt"
      },
      "execution_count": 17,
      "outputs": []
    },
    {
      "cell_type": "code",
      "source": [
        "X_novo"
      ],
      "metadata": {
        "colab": {
          "base_uri": "https://localhost:8080/"
        },
        "id": "HjXf5JBaZtsq",
        "outputId": "bcbd91ac-a831-4af6-c461-20484a300238"
      },
      "execution_count": 18,
      "outputs": [
        {
          "output_type": "execute_result",
          "data": {
            "text/plain": [
              "array([[0.9231759 , 0.58883739],\n",
              "       [0.28812165, 0.47682695],\n",
              "       [0.74633429, 0.58262011],\n",
              "       ...,\n",
              "       [0.48612202, 0.40112895],\n",
              "       [0.47500998, 0.1177903 ],\n",
              "       [0.98881367, 0.53597028]])"
            ]
          },
          "metadata": {},
          "execution_count": 18
        }
      ]
    },
    {
      "cell_type": "markdown",
      "source": [
        "* Considerando que os dados com menor variancia são descartaveis, no caso aplicamos o valor minimo para ser fatiado. porem, aqui a variancia dos atributos é muito proxima, então esse valor minimo não deve ser considerado como irrelevante."
      ],
      "metadata": {
        "id": "fkq5hDEYaw68"
      }
    },
    {
      "cell_type": "code",
      "source": [
        "from sklearn.naive_bayes import GaussianNB\n",
        "from sklearn.metrics import accuracy_score\n",
        "\n",
        "naive_sem_selecao = GaussianNB()\n",
        "naive_sem_selecao.fit(X, y)\n",
        "\n",
        "previsoes = naive_sem_selecao.predict(X)\n",
        "accuracy_score(previsoes, y)"
      ],
      "metadata": {
        "colab": {
          "base_uri": "https://localhost:8080/"
        },
        "id": "AWFQEeRFawI_",
        "outputId": "eecd9b3b-3ef4-4d54-fb57-c786f0d5c942"
      },
      "execution_count": 20,
      "outputs": [
        {
          "output_type": "execute_result",
          "data": {
            "text/plain": [
              "0.9253880821231848"
            ]
          },
          "metadata": {},
          "execution_count": 20
        }
      ]
    },
    {
      "cell_type": "code",
      "source": [
        "naive_com_selecao = GaussianNB()\n",
        "naive_sem_selecao = naive_sem_selecao.fit(X_novo, y)\n",
        "\n",
        "previsoes = naive_sem_selecao.predict(X_novo)\n",
        "accuracy_score(previsoes, y)"
      ],
      "metadata": {
        "colab": {
          "base_uri": "https://localhost:8080/"
        },
        "id": "U5oICa4wbeOW",
        "outputId": "6530bb86-5380-4cb7-cec7-8b28db36229f"
      },
      "execution_count": 21,
      "outputs": [
        {
          "output_type": "execute_result",
          "data": {
            "text/plain": [
              "0.8472709063595393"
            ]
          },
          "metadata": {},
          "execution_count": 21
        }
      ]
    }
  ]
}